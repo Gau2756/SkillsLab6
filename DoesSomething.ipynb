{
 "cells": [
  {
   "cell_type": "code",
   "execution_count": null,
   "id": "c51d654a-d45a-48be-aed1-f907b767e606",
   "metadata": {},
   "outputs": [],
   "source": [
    "name = input(\"Enter your name: \")\n",
    "major = input(\"Enter your major: \")\n",
    "print(\"Hi \", name, \"! Have fun learning about \", major, \"!\")"
   ]
  },
  {
   "cell_type": "code",
   "execution_count": null,
   "id": "5b23daf4-9ed8-4296-97d3-3310d0a949d2",
   "metadata": {},
   "outputs": [],
   "source": []
  }
 ],
 "metadata": {
  "kernelspec": {
   "display_name": "Python 3 (ipykernel)",
   "language": "python",
   "name": "python3"
  },
  "language_info": {
   "codemirror_mode": {
    "name": "ipython",
    "version": 3
   },
   "file_extension": ".py",
   "mimetype": "text/x-python",
   "name": "python",
   "nbconvert_exporter": "python",
   "pygments_lexer": "ipython3",
   "version": "3.12.4"
  }
 },
 "nbformat": 4,
 "nbformat_minor": 5
}
